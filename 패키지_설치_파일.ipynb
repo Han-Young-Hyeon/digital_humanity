{
 "cells": [
  {
   "cell_type": "markdown",
   "metadata": {},
   "source": [
    "### 컴퓨터에서 실행하는 분들을 위한 패키지 설치 파일입니다. 파이썬이 설치되어 있다면, 아래 셀을 실행했을 때 필요한 패키지가 자동으로 설치됩니다."
   ]
  },
  {
   "cell_type": "code",
   "execution_count": null,
   "metadata": {},
   "outputs": [],
   "source": [
    "!pip install numpy\n",
    "!pip install pandas\n",
    "!pip install udkanbun\n",
    "!pip install openai\n",
    "!pip install konlpy\n",
    "!pip install flask\n",
    "!pip install openai\n",
    "!pip install tqdm\n",
    "!pip install re\n",
    "!pip install nltk\n",
    "!pip install transformers\n",
    "!pip install torch\n",
    "!pip install matplotlib\n",
    "!pip install datetime\n",
    "!pip install plotly\n",
    "!pip install collections\n",
    "!pip install itertools\n",
    "!pip install gensim\n",
    "!pip install sklearn\n",
    "!pip install scipy\n",
    "!pip install operator\n",
    "!pip install networkx\n",
    "!pip install seaborn\n",
    "!pip install xml"
   ]
  }
 ],
 "metadata": {
  "language_info": {
   "name": "python"
  }
 },
 "nbformat": 4,
 "nbformat_minor": 2
}
